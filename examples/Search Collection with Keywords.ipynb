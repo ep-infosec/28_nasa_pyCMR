{
 "cells": [
  {
   "cell_type": "code",
   "execution_count": null,
   "metadata": {
    "collapsed": true
   },
   "outputs": [],
   "source": [
    "from pyCMR.pyCMR import CMR"
   ]
  },
  {
   "cell_type": "markdown",
   "metadata": {},
   "source": [
    "Provide config file"
   ]
  },
  {
   "cell_type": "code",
   "execution_count": null,
   "metadata": {
    "collapsed": true
   },
   "outputs": [],
   "source": [
    "cmr=CMR(\"../cmr.cfg\")"
   ]
  },
  {
   "cell_type": "code",
   "execution_count": null,
   "metadata": {},
   "outputs": [],
   "source": [
    "results = cmr.searchCollection(spatial_keyword='nepal',keyword='vegetation')\n",
    "print(\"Obtained '%s' result.\" % len(results))\n",
    "print(results)"
   ]
  },
  {
   "cell_type": "code",
   "execution_count": null,
   "metadata": {},
   "outputs": [],
   "source": [
    "for res in results:\n",
    "    print(res['Collection']['DataSetId'])\n",
    "    print(\"Short Name: \"+ res['Collection']['ShortName'])\n",
    "    if res['Collection']['ArchiveCenter'] is not None:\n",
    "        print(\"Archive Center: \" + res['Collection']['ArchiveCenter'])\n",
    "    if res['Collection']['Description'] is not None:\n",
    "        print(\"Description: \" + res['Collection']['Description'])\n",
    "    if res['Collection']['Spatial']['HorizontalSpatialDomain']['Geometry']['BoundingRectangle'] is not None:\n",
    "        print(\"Bounding Rectangle: \" + str(res['Collection']['Spatial']['HorizontalSpatialDomain']['Geometry']['BoundingRectangle']))\n",
    "    print(\"================================================\")"
   ]
  }
 ],
 "metadata": {
  "kernelspec": {
   "display_name": "Python 3",
   "language": "python",
   "name": "python3"
  },
  "language_info": {
   "codemirror_mode": {
    "name": "ipython",
    "version": 3
   },
   "file_extension": ".py",
   "mimetype": "text/x-python",
   "name": "python",
   "nbconvert_exporter": "python",
   "pygments_lexer": "ipython3",
   "version": "3.6.1"
  }
 },
 "nbformat": 4,
 "nbformat_minor": 1
}
